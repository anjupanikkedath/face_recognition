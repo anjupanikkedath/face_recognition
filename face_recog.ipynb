{
 "cells": [
  {
   "cell_type": "code",
   "execution_count": 5,
   "metadata": {},
   "outputs": [],
   "source": [
    "import cv2"
   ]
  },
  {
   "cell_type": "code",
   "execution_count": 6,
   "metadata": {},
   "outputs": [],
   "source": [
    "def name_map(x):\n",
    "    if x=='sachin':\n",
    "        return 0\n",
    "    if x=='obama':\n",
    "        return 1\n",
    "    if x=='messi':\n",
    "        return 2"
   ]
  },
  {
   "cell_type": "code",
   "execution_count": 7,
   "metadata": {},
   "outputs": [],
   "source": [
    "def get_name(x):\n",
    "    if x==0:\n",
    "        return 'sachin'\n",
    "    if x==1:\n",
    "        return 'obama'\n",
    "    if x==2:\n",
    "        return 'messi'"
   ]
  },
  {
   "cell_type": "code",
   "execution_count": 8,
   "metadata": {},
   "outputs": [],
   "source": [
    "def detect_face(img):\n",
    "    gray=cv2.cvtColor(img,cv2.COLOR_BGR2GRAY)\n",
    "    face_cascade=cv2.CascadeClassifier(r'D:\\DL Projects\\face_recognition\\haarcascade_frontalface_default (1).xml')\n",
    "    face=face_cascade.detectMultiScale(gray,minNeighbors=4)\n",
    "    if len(face)==0:\n",
    "        return None,None\n",
    "    x,y,w,h=face[0]\n",
    "    return gray[x:x+w,y:y+h],face[0]"
   ]
  },
  {
   "cell_type": "code",
   "execution_count": 9,
   "metadata": {},
   "outputs": [],
   "source": [
    "img=cv2.imread(r'D:\\DL Projects\\face_recognition\\messi.jpg')\n",
    "img,rect=detect_face(img)"
   ]
  },
  {
   "cell_type": "code",
   "execution_count": 10,
   "metadata": {},
   "outputs": [],
   "source": [
    "import os"
   ]
  },
  {
   "cell_type": "code",
   "execution_count": 11,
   "metadata": {},
   "outputs": [],
   "source": [
    "def prepare_training_data(data_folder):\n",
    "    dirs=os.listdir(data_folder)\n",
    "    #print(dirs)\n",
    "    faces=[]\n",
    "    labels=[]\n",
    "    for dir_name in dirs:\n",
    "        sub_dir=data_folder+'/'+dir_name\n",
    "        #print(sub_dir)\n",
    "        images=os.listdir(sub_dir)\n",
    "        #print(images)\n",
    "        for img in images:\n",
    "            imgpath=sub_dir+'/'+img\n",
    "            #print(imgpath)\n",
    "            image=cv2.imread(imgpath)\n",
    "            cv2.imshow('training images',image)\n",
    "            cv2.waitKey(500)\n",
    "    cv2.waitKey(1)\n",
    "    cv2.destroyAllWindows()"
   ]
  },
  {
   "cell_type": "code",
   "execution_count": 12,
   "metadata": {},
   "outputs": [
    {
     "name": "stdout",
     "output_type": "stream",
     "text": [
      "['messi', 'obama', 'sachin']\n",
      "D:\\DL Projects\\face_recognition\\DB/messi\n",
      "['01.jpg', '02.jpg', '03.jpg', '04.jpg', '05.jpg', '06.jpg', '07.jpg', '08.jpg', '09.jpg', '10.jpg']\n",
      "D:\\DL Projects\\face_recognition\\DB/messi/01.jpg\n",
      "D:\\DL Projects\\face_recognition\\DB/messi/02.jpg\n",
      "D:\\DL Projects\\face_recognition\\DB/messi/03.jpg\n",
      "D:\\DL Projects\\face_recognition\\DB/messi/04.jpg\n",
      "D:\\DL Projects\\face_recognition\\DB/messi/05.jpg\n",
      "D:\\DL Projects\\face_recognition\\DB/messi/06.jpg\n",
      "D:\\DL Projects\\face_recognition\\DB/messi/07.jpg\n",
      "D:\\DL Projects\\face_recognition\\DB/messi/08.jpg\n",
      "D:\\DL Projects\\face_recognition\\DB/messi/09.jpg\n",
      "D:\\DL Projects\\face_recognition\\DB/messi/10.jpg\n",
      "D:\\DL Projects\\face_recognition\\DB/obama\n",
      "['01.jpg', '02.jpg', '03.jpg', '04.jpg', '05.jpg', '06.jpg', '07.jpg', '08.jpg', '09.jpg', '10.jpg']\n",
      "D:\\DL Projects\\face_recognition\\DB/obama/01.jpg\n",
      "D:\\DL Projects\\face_recognition\\DB/obama/02.jpg\n",
      "D:\\DL Projects\\face_recognition\\DB/obama/03.jpg\n",
      "D:\\DL Projects\\face_recognition\\DB/obama/04.jpg\n",
      "D:\\DL Projects\\face_recognition\\DB/obama/05.jpg\n",
      "D:\\DL Projects\\face_recognition\\DB/obama/06.jpg\n",
      "D:\\DL Projects\\face_recognition\\DB/obama/07.jpg\n",
      "D:\\DL Projects\\face_recognition\\DB/obama/08.jpg\n",
      "D:\\DL Projects\\face_recognition\\DB/obama/09.jpg\n",
      "D:\\DL Projects\\face_recognition\\DB/obama/10.jpg\n",
      "D:\\DL Projects\\face_recognition\\DB/sachin\n",
      "['01.jpg', '02.jpg', '03.jpg', '04.jpg', '05.jpg', '06.jpg', '07.jpg', '08.jpg', '09.jpg', '10.jpg']\n",
      "D:\\DL Projects\\face_recognition\\DB/sachin/01.jpg\n",
      "D:\\DL Projects\\face_recognition\\DB/sachin/02.jpg\n",
      "D:\\DL Projects\\face_recognition\\DB/sachin/03.jpg\n",
      "D:\\DL Projects\\face_recognition\\DB/sachin/04.jpg\n",
      "D:\\DL Projects\\face_recognition\\DB/sachin/05.jpg\n",
      "D:\\DL Projects\\face_recognition\\DB/sachin/06.jpg\n",
      "D:\\DL Projects\\face_recognition\\DB/sachin/07.jpg\n",
      "D:\\DL Projects\\face_recognition\\DB/sachin/08.jpg\n",
      "D:\\DL Projects\\face_recognition\\DB/sachin/09.jpg\n",
      "D:\\DL Projects\\face_recognition\\DB/sachin/10.jpg\n"
     ]
    }
   ],
   "source": [
    "prepare_training_data(r'D:\\DL Projects\\face_recognition\\DB')"
   ]
  }
 ],
 "metadata": {
  "kernelspec": {
   "display_name": "Python 3",
   "language": "python",
   "name": "python3"
  },
  "language_info": {
   "codemirror_mode": {
    "name": "ipython",
    "version": 3
   },
   "file_extension": ".py",
   "mimetype": "text/x-python",
   "name": "python",
   "nbconvert_exporter": "python",
   "pygments_lexer": "ipython3",
   "version": "3.10.0"
  }
 },
 "nbformat": 4,
 "nbformat_minor": 2
}
